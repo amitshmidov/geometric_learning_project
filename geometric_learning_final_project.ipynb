{
  "nbformat": 4,
  "nbformat_minor": 0,
  "metadata": {
    "colab": {
      "name": "geometric_learning_final_project.ipynb",
      "provenance": [],
      "collapsed_sections": [],
      "authorship_tag": "ABX9TyMyeEhnuUZzkMaFh6qup+7r",
      "include_colab_link": true
    },
    "kernelspec": {
      "name": "python3",
      "display_name": "Python 3"
    }
  },
  "cells": [
    {
      "cell_type": "markdown",
      "metadata": {
        "id": "view-in-github",
        "colab_type": "text"
      },
      "source": [
        "<a href=\"https://colab.research.google.com/github/amitshmidov/geometric_learning_project/blob/main/geometric_learning_final_project.ipynb\" target=\"_parent\"><img src=\"https://colab.research.google.com/assets/colab-badge.svg\" alt=\"Open In Colab\"/></a>"
      ]
    },
    {
      "cell_type": "markdown",
      "metadata": {
        "id": "5_a7zJA-iDrw"
      },
      "source": [
        "# **Data Loading**"
      ]
    },
    {
      "cell_type": "code",
      "metadata": {
        "id": "vnP3yfcaiWDu"
      },
      "source": [
        ""
      ],
      "execution_count": null,
      "outputs": []
    },
    {
      "cell_type": "markdown",
      "metadata": {
        "id": "OshcE3Waj1Uv"
      },
      "source": [
        "# Run basic experiments"
      ]
    },
    {
      "cell_type": "markdown",
      "metadata": {
        "id": "7pD2lhD2iWdU"
      },
      "source": [
        "## Classic **PointNet**"
      ]
    },
    {
      "cell_type": "code",
      "metadata": {
        "id": "ovXx0aUTihnX"
      },
      "source": [
        ""
      ],
      "execution_count": null,
      "outputs": []
    },
    {
      "cell_type": "markdown",
      "metadata": {
        "id": "73IeJRoBiiLF"
      },
      "source": [
        "## Classic **Momenet**\n"
      ]
    },
    {
      "cell_type": "code",
      "metadata": {
        "id": "fc-PQcI9i5tU"
      },
      "source": [
        ""
      ],
      "execution_count": null,
      "outputs": []
    },
    {
      "cell_type": "markdown",
      "metadata": {
        "id": "78UDJvSvi6Pe"
      },
      "source": [
        "## $1^{st}$, $2^{nd}$ and $3^{rd}$ order moments"
      ]
    },
    {
      "cell_type": "code",
      "metadata": {
        "id": "4m9TMUU-jbWe"
      },
      "source": [
        ""
      ],
      "execution_count": null,
      "outputs": []
    },
    {
      "cell_type": "markdown",
      "metadata": {
        "id": "yLmjOJ2CjckY"
      },
      "source": [
        "# Add consistently oriented vertex normals"
      ]
    },
    {
      "cell_type": "code",
      "metadata": {
        "id": "96T6Qm4BjzeB"
      },
      "source": [
        ""
      ],
      "execution_count": null,
      "outputs": []
    },
    {
      "cell_type": "markdown",
      "metadata": {
        "id": "hsldZFbTj-0r"
      },
      "source": [
        "## Classic **PointNet**"
      ]
    },
    {
      "cell_type": "code",
      "metadata": {
        "id": "vbt66gNTkGgD"
      },
      "source": [
        ""
      ],
      "execution_count": null,
      "outputs": []
    },
    {
      "cell_type": "markdown",
      "metadata": {
        "id": "oq9R0Jj3kG63"
      },
      "source": [
        "## Classic **Momenet**"
      ]
    },
    {
      "cell_type": "code",
      "metadata": {
        "id": "irBRCORskJbI"
      },
      "source": [
        ""
      ],
      "execution_count": null,
      "outputs": []
    },
    {
      "cell_type": "markdown",
      "metadata": {
        "id": "ZGKDTjNIkJ1S"
      },
      "source": [
        "## $1^{st}$, $2^{nd}$ and $3^{rd}$ order moments"
      ]
    },
    {
      "cell_type": "code",
      "metadata": {
        "id": "xNRNny7OkMXP"
      },
      "source": [
        ""
      ],
      "execution_count": null,
      "outputs": []
    },
    {
      "cell_type": "markdown",
      "metadata": {
        "id": "dOzdFxEjkQN4"
      },
      "source": [
        "# Add another geometric prelifting"
      ]
    },
    {
      "cell_type": "code",
      "metadata": {
        "id": "X48dGnaOkTlS"
      },
      "source": [
        ""
      ],
      "execution_count": null,
      "outputs": []
    },
    {
      "cell_type": "markdown",
      "metadata": {
        "id": "5Sr9SPlRkW15"
      },
      "source": [
        "## Basic runs"
      ]
    },
    {
      "cell_type": "code",
      "metadata": {
        "id": "qUrPwBSCkZNp"
      },
      "source": [
        ""
      ],
      "execution_count": null,
      "outputs": []
    },
    {
      "cell_type": "markdown",
      "metadata": {
        "id": "SoWfndBXkZz9"
      },
      "source": [
        "## Consistently oriented vertex normals runs"
      ]
    },
    {
      "cell_type": "code",
      "metadata": {
        "id": "vns4DfnBkgxb"
      },
      "source": [
        ""
      ],
      "execution_count": null,
      "outputs": []
    }
  ]
}